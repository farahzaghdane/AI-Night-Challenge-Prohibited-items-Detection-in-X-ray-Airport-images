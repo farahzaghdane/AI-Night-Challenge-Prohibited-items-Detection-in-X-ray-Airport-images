{
 "cells": [
  {
   "cell_type": "code",
   "execution_count": 162,
   "id": "cc9e1ee5",
   "metadata": {},
   "outputs": [
    {
     "name": "stdout",
     "output_type": "stream",
     "text": [
      "2.8.0\n",
      "1.20.3\n"
     ]
    }
   ],
   "source": [
    "import tensorflow\n",
    "from tensorflow.keras import backend as k\n",
    "from tensorflow.keras.models import Sequential\n",
    "from tensorflow.keras.layers import Dense, Dropout,Conv1D, MaxPooling1D,Flatten,BatchNormalization\n",
    "from sklearn.model_selection import train_test_split\n",
    "import numpy\n",
    "\n",
    "from tensorflow.keras.callbacks import ModelCheckpoint, LearningRateScheduler\n",
    "\n",
    "\n",
    "import tensorflow as tf\n",
    "print(tf.__version__)\n",
    "\n",
    "import numpy as np\n",
    "print(np.__version__)\n",
    "\n",
    "numpy.random.seed(2)\n",
    "import pandas as pd"
   ]
  },
  {
   "cell_type": "code",
   "execution_count": 163,
   "id": "db068088",
   "metadata": {},
   "outputs": [
    {
     "name": "stdout",
     "output_type": "stream",
     "text": [
      "(13762, 8)\n"
     ]
    }
   ],
   "source": [
    "dataset_e1= pd.read_csv(r\"C:\\Users\\MSI_GAMER\\Documents\\deep\\AI-challenge\\stand_norm_e1.txt\",delimiter=\" \",header=None)\n",
    "dataset_e1=numpy.array(dataset_e1,float)\n",
    "\n",
    "X_e1 = dataset_e1[:,:8]\n",
    "\n",
    "print(X_e1.shape)"
   ]
  },
  {
   "cell_type": "code",
   "execution_count": 164,
   "id": "4a9aeaa8",
   "metadata": {},
   "outputs": [
    {
     "name": "stdout",
     "output_type": "stream",
     "text": [
      "(13762, 8)\n"
     ]
    }
   ],
   "source": [
    "dataset_e2= pd.read_csv(r\"C:\\Users\\MSI_GAMER\\Documents\\deep\\AI-challenge\\stand_norm_e2.txt\",delimiter=\" \",header=None)\n",
    "dataset_e2=numpy.array(dataset_e2,float)\n",
    "\n",
    "X_e2 = dataset_e2[:,:8]\n",
    "\n",
    "n=np.max(X_e2)\n",
    "X_e2=X_e2/n\n",
    "print(X_e2.shape)"
   ]
  },
  {
   "cell_type": "code",
   "execution_count": 165,
   "id": "c36c1c56",
   "metadata": {},
   "outputs": [
    {
     "name": "stdout",
     "output_type": "stream",
     "text": [
      "(13762, 8, 2)\n"
     ]
    }
   ],
   "source": [
    "x_train_test=np.zeros((X_e1.shape[0],X_e1.shape[1],2))\n",
    "x_train_test[:,:,0]=X_e1\n",
    "x_train_test[:,:,1]=X_e2\n",
    "print(x_train_test.shape)\n"
   ]
  },
  {
   "cell_type": "code",
   "execution_count": 166,
   "id": "7fea65a7",
   "metadata": {},
   "outputs": [],
   "source": [
    "dataset_output= pd.read_csv(r\"C:\\Users\\MSI_GAMER\\Documents\\deep\\AI-challenge\\y2_e1.txt\",delimiter=\" \",header=None)\n",
    "dataset_output=numpy.array(dataset_output,float)\n",
    "dataset_output_new= dataset_output.reshape(dataset_output.shape[0], )"
   ]
  },
  {
   "cell_type": "code",
   "execution_count": 167,
   "id": "1f98d4e4",
   "metadata": {},
   "outputs": [],
   "source": [
    "from sklearn.model_selection import train_test_split\n",
    "x_train, x_test, y_train, y_test = train_test_split(x_train_test, dataset_output_new, test_size=0.15, random_state=42)"
   ]
  },
  {
   "cell_type": "code",
   "execution_count": 168,
   "id": "9f43cbb8",
   "metadata": {},
   "outputs": [],
   "source": [
    "x_train_new=x_train\n",
    "x_test_new=x_test"
   ]
  },
  {
   "cell_type": "code",
   "execution_count": 169,
   "id": "facb041f",
   "metadata": {},
   "outputs": [
    {
     "name": "stdout",
     "output_type": "stream",
     "text": [
      "(11697, 8, 2)\n",
      "(11697,)\n",
      "(11697, 3)\n"
     ]
    }
   ],
   "source": [
    "print(x_train_new.shape)\n",
    "print(y_train.shape)\n",
    "\n",
    "Y_train_new = tensorflow.keras.utils.to_categorical( y_train)\n",
    "Y_test_new = tensorflow.keras.utils.to_categorical(y_test)\n",
    "print(Y_train_new.shape)"
   ]
  },
  {
   "cell_type": "markdown",
   "id": "31cf0d97",
   "metadata": {},
   "source": [
    "print (x_train_new.shape)\n",
    "x_train_new=x_train_new.reshape(x_train_new.shape[0],  x_train_new.shape[1], 2)\n",
    "x_test_new = x_test_new.reshape(x_test_new.shape[0], x_test_new.shape[1],2 )\n",
    "print (x_train_new.shape)"
   ]
  },
  {
   "cell_type": "markdown",
   "id": "6e5ce9d2",
   "metadata": {},
   "source": [
    "data_augmentation\n"
   ]
  },
  {
   "cell_type": "code",
   "execution_count": null,
   "id": "32fc5957",
   "metadata": {},
   "outputs": [],
   "source": []
  },
  {
   "cell_type": "code",
   "execution_count": 170,
   "id": "1a0e87e6",
   "metadata": {},
   "outputs": [],
   "source": [
    "model = Sequential()\n",
    "model.add(Conv1D(32, kernel_size=3,\n",
    "                 activation='relu',data_format=\"channels_last\",padding='same',\n",
    "                 input_shape=(8,2)))\n",
    "model.add(BatchNormalization())\n",
    "model.add(Conv1D(128, 3, activation='relu',padding='same'))\n",
    "model.add(BatchNormalization())\n",
    "model.add(MaxPooling1D(pool_size=3,strides=None))\n",
    "model.add(Dropout(0.1))\n",
    "model.add(Conv1D(512, 3, activation='relu',padding='same'))\n",
    "model.add(MaxPooling1D(pool_size=2,strides=None))\n",
    "model.add(Dropout(0.1))\n",
    "model.add(Flatten()) # Flatten is the input layer of the Fully Connected\n",
    "model.add(Dense(100, activation='relu')) # gets input size from flatten\n",
    "model.add(BatchNormalization())\n",
    "model.add(Dropout(0.2))\n",
    "model.add(Dense(3, activation='softmax'))\n"
   ]
  },
  {
   "cell_type": "code",
   "execution_count": 173,
   "id": "d765532e",
   "metadata": {},
   "outputs": [],
   "source": [
    "model.compile(loss=tensorflow.keras.losses.categorical_crossentropy,\n",
    "              optimizer=tensorflow.keras.optimizers.SGD(learning_rate=0.001),\n",
    "              metrics=['accuracy'])"
   ]
  },
  {
   "cell_type": "code",
   "execution_count": 174,
   "id": "f49b4f5f",
   "metadata": {},
   "outputs": [
    {
     "name": "stdout",
     "output_type": "stream",
     "text": [
      "Epoch 1/100\n",
      "\n",
      "Epoch 1: val_loss improved from inf to 2.22655, saving model to .\\_best_weights.h5\n",
      "19/19 - 2s - loss: 0.6513 - accuracy: 0.6694 - val_loss: 2.2266 - val_accuracy: 0.5231 - 2s/epoch - 99ms/step\n",
      "Epoch 2/100\n",
      "\n",
      "Epoch 2: val_loss improved from 2.22655 to 1.27654, saving model to .\\_best_weights.h5\n",
      "19/19 - 1s - loss: 0.6335 - accuracy: 0.6762 - val_loss: 1.2765 - val_accuracy: 0.5449 - 910ms/epoch - 48ms/step\n",
      "Epoch 3/100\n",
      "\n",
      "Epoch 3: val_loss improved from 1.27654 to 1.00843, saving model to .\\_best_weights.h5\n",
      "19/19 - 1s - loss: 0.6259 - accuracy: 0.6800 - val_loss: 1.0084 - val_accuracy: 0.5756 - 915ms/epoch - 48ms/step\n",
      "Epoch 4/100\n",
      "\n",
      "Epoch 4: val_loss improved from 1.00843 to 0.84815, saving model to .\\_best_weights.h5\n",
      "19/19 - 1s - loss: 0.6303 - accuracy: 0.6796 - val_loss: 0.8482 - val_accuracy: 0.6115 - 933ms/epoch - 49ms/step\n",
      "Epoch 5/100\n",
      "\n",
      "Epoch 5: val_loss improved from 0.84815 to 0.68413, saving model to .\\_best_weights.h5\n",
      "19/19 - 1s - loss: 0.6343 - accuracy: 0.6725 - val_loss: 0.6841 - val_accuracy: 0.6483 - 867ms/epoch - 46ms/step\n",
      "Epoch 6/100\n",
      "\n",
      "Epoch 6: val_loss improved from 0.68413 to 0.66185, saving model to .\\_best_weights.h5\n",
      "19/19 - 1s - loss: 0.6237 - accuracy: 0.6838 - val_loss: 0.6619 - val_accuracy: 0.6568 - 878ms/epoch - 46ms/step\n",
      "Epoch 7/100\n",
      "\n",
      "Epoch 7: val_loss improved from 0.66185 to 0.65042, saving model to .\\_best_weights.h5\n",
      "19/19 - 1s - loss: 0.6172 - accuracy: 0.6800 - val_loss: 0.6504 - val_accuracy: 0.6449 - 960ms/epoch - 51ms/step\n",
      "Epoch 8/100\n",
      "\n",
      "Epoch 8: val_loss improved from 0.65042 to 0.65011, saving model to .\\_best_weights.h5\n",
      "19/19 - 1s - loss: 0.6159 - accuracy: 0.6871 - val_loss: 0.6501 - val_accuracy: 0.6551 - 910ms/epoch - 48ms/step\n",
      "Epoch 9/100\n",
      "\n",
      "Epoch 9: val_loss improved from 0.65011 to 0.64113, saving model to .\\_best_weights.h5\n",
      "19/19 - 1s - loss: 0.6157 - accuracy: 0.6873 - val_loss: 0.6411 - val_accuracy: 0.6632 - 940ms/epoch - 49ms/step\n",
      "Epoch 10/100\n",
      "\n",
      "Epoch 10: val_loss did not improve from 0.64113\n",
      "19/19 - 1s - loss: 0.6126 - accuracy: 0.6880 - val_loss: 0.6574 - val_accuracy: 0.6560 - 835ms/epoch - 44ms/step\n",
      "Epoch 11/100\n",
      "\n",
      "Epoch 11: val_loss did not improve from 0.64113\n",
      "19/19 - 1s - loss: 0.6066 - accuracy: 0.6914 - val_loss: 0.6465 - val_accuracy: 0.6658 - 841ms/epoch - 44ms/step\n",
      "Epoch 12/100\n",
      "\n",
      "Epoch 12: val_loss improved from 0.64113 to 0.63156, saving model to .\\_best_weights.h5\n",
      "19/19 - 1s - loss: 0.6116 - accuracy: 0.6881 - val_loss: 0.6316 - val_accuracy: 0.6752 - 912ms/epoch - 48ms/step\n",
      "Epoch 13/100\n",
      "\n",
      "Epoch 13: val_loss did not improve from 0.63156\n",
      "19/19 - 1s - loss: 0.6075 - accuracy: 0.6870 - val_loss: 0.6504 - val_accuracy: 0.6603 - 800ms/epoch - 42ms/step\n",
      "Epoch 14/100\n",
      "\n",
      "Epoch 14: val_loss did not improve from 0.63156\n",
      "19/19 - 1s - loss: 0.6085 - accuracy: 0.6879 - val_loss: 0.6379 - val_accuracy: 0.6709 - 785ms/epoch - 41ms/step\n",
      "Epoch 15/100\n",
      "\n",
      "Epoch 15: val_loss did not improve from 0.63156\n",
      "19/19 - 1s - loss: 0.6042 - accuracy: 0.7021 - val_loss: 0.6365 - val_accuracy: 0.6688 - 795ms/epoch - 42ms/step\n",
      "Epoch 16/100\n",
      "\n",
      "Epoch 16: val_loss did not improve from 0.63156\n",
      "19/19 - 1s - loss: 0.6033 - accuracy: 0.6964 - val_loss: 1.0001 - val_accuracy: 0.6107 - 825ms/epoch - 43ms/step\n",
      "Epoch 17/100\n",
      "\n",
      "Epoch 17: val_loss improved from 0.63156 to 0.62802, saving model to .\\_best_weights.h5\n",
      "19/19 - 1s - loss: 0.6104 - accuracy: 0.6908 - val_loss: 0.6280 - val_accuracy: 0.6782 - 940ms/epoch - 49ms/step\n",
      "Epoch 18/100\n",
      "\n",
      "Epoch 18: val_loss did not improve from 0.62802\n",
      "19/19 - 1s - loss: 0.6053 - accuracy: 0.6942 - val_loss: 0.6603 - val_accuracy: 0.6585 - 786ms/epoch - 41ms/step\n",
      "Epoch 19/100\n",
      "\n",
      "Epoch 19: val_loss did not improve from 0.62802\n",
      "19/19 - 1s - loss: 0.6056 - accuracy: 0.6894 - val_loss: 0.6950 - val_accuracy: 0.6650 - 835ms/epoch - 44ms/step\n",
      "Epoch 20/100\n",
      "\n",
      "Epoch 20: val_loss improved from 0.62802 to 0.62768, saving model to .\\_best_weights.h5\n",
      "19/19 - 1s - loss: 0.6064 - accuracy: 0.6903 - val_loss: 0.6277 - val_accuracy: 0.6739 - 1s/epoch - 54ms/step\n",
      "Epoch 21/100\n",
      "\n",
      "Epoch 21: val_loss did not improve from 0.62768\n",
      "19/19 - 1s - loss: 0.6009 - accuracy: 0.6948 - val_loss: 0.6731 - val_accuracy: 0.6547 - 831ms/epoch - 44ms/step\n",
      "Epoch 22/100\n",
      "\n",
      "Epoch 22: val_loss did not improve from 0.62768\n",
      "19/19 - 1s - loss: 0.6001 - accuracy: 0.6969 - val_loss: 0.6291 - val_accuracy: 0.6765 - 814ms/epoch - 43ms/step\n",
      "Epoch 23/100\n",
      "\n",
      "Epoch 23: val_loss did not improve from 0.62768\n",
      "19/19 - 1s - loss: 0.6031 - accuracy: 0.6896 - val_loss: 0.6297 - val_accuracy: 0.6714 - 830ms/epoch - 44ms/step\n",
      "Epoch 24/100\n",
      "\n",
      "Epoch 24: val_loss did not improve from 0.62768\n",
      "19/19 - 1s - loss: 0.6022 - accuracy: 0.6926 - val_loss: 1.8761 - val_accuracy: 0.6043 - 897ms/epoch - 47ms/step\n",
      "Epoch 25/100\n",
      "\n",
      "Epoch 25: val_loss did not improve from 0.62768\n",
      "19/19 - 1s - loss: 0.6056 - accuracy: 0.6872 - val_loss: 0.7980 - val_accuracy: 0.6521 - 896ms/epoch - 47ms/step\n",
      "Epoch 26/100\n",
      "\n",
      "Epoch 26: val_loss did not improve from 0.62768\n",
      "19/19 - 1s - loss: 0.6057 - accuracy: 0.6935 - val_loss: 0.7192 - val_accuracy: 0.6368 - 853ms/epoch - 45ms/step\n",
      "Epoch 27/100\n",
      "\n",
      "Epoch 27: val_loss did not improve from 0.62768\n",
      "19/19 - 1s - loss: 0.6008 - accuracy: 0.6977 - val_loss: 0.7358 - val_accuracy: 0.6376 - 835ms/epoch - 44ms/step\n",
      "Epoch 28/100\n",
      "\n",
      "Epoch 28: val_loss did not improve from 0.62768\n",
      "19/19 - 1s - loss: 0.6303 - accuracy: 0.6737 - val_loss: 0.6496 - val_accuracy: 0.6543 - 818ms/epoch - 43ms/step\n",
      "Epoch 29/100\n",
      "\n",
      "Epoch 29: val_loss did not improve from 0.62768\n",
      "19/19 - 1s - loss: 0.6282 - accuracy: 0.6748 - val_loss: 0.6463 - val_accuracy: 0.6645 - 885ms/epoch - 47ms/step\n",
      "Epoch 30/100\n",
      "\n",
      "Epoch 30: val_loss did not improve from 0.62768\n",
      "19/19 - 1s - loss: 0.6203 - accuracy: 0.6769 - val_loss: 0.6293 - val_accuracy: 0.6645 - 863ms/epoch - 45ms/step\n",
      "Epoch 31/100\n",
      "\n",
      "Epoch 31: val_loss did not improve from 0.62768\n",
      "19/19 - 1s - loss: 0.6224 - accuracy: 0.6763 - val_loss: 0.6301 - val_accuracy: 0.6662 - 850ms/epoch - 45ms/step\n",
      "Epoch 32/100\n",
      "\n",
      "Epoch 32: val_loss did not improve from 0.62768\n",
      "19/19 - 1s - loss: 0.6250 - accuracy: 0.6747 - val_loss: 0.6893 - val_accuracy: 0.6551 - 840ms/epoch - 44ms/step\n",
      "Epoch 33/100\n",
      "\n",
      "Epoch 33: val_loss did not improve from 0.62768\n",
      "19/19 - 1s - loss: 0.6214 - accuracy: 0.6778 - val_loss: 0.6348 - val_accuracy: 0.6667 - 850ms/epoch - 45ms/step\n",
      "Epoch 34/100\n",
      "\n",
      "Epoch 34: val_loss did not improve from 0.62768\n",
      "19/19 - 1s - loss: 0.6220 - accuracy: 0.6764 - val_loss: 0.6287 - val_accuracy: 0.6701 - 843ms/epoch - 44ms/step\n",
      "Epoch 35/100\n",
      "\n",
      "Epoch 35: val_loss did not improve from 0.62768\n",
      "19/19 - 1s - loss: 0.6191 - accuracy: 0.6803 - val_loss: 0.6306 - val_accuracy: 0.6705 - 813ms/epoch - 43ms/step\n",
      "Epoch 36/100\n",
      "\n",
      "Epoch 36: val_loss did not improve from 0.62768\n",
      "19/19 - 1s - loss: 0.6215 - accuracy: 0.6741 - val_loss: 0.6292 - val_accuracy: 0.6671 - 815ms/epoch - 43ms/step\n",
      "Epoch 37/100\n",
      "\n",
      "Epoch 37: val_loss did not improve from 0.62768\n",
      "19/19 - 1s - loss: 0.6181 - accuracy: 0.6793 - val_loss: 0.6523 - val_accuracy: 0.6718 - 850ms/epoch - 45ms/step\n",
      "Epoch 38/100\n",
      "\n",
      "Epoch 38: val_loss improved from 0.62768 to 0.62630, saving model to .\\_best_weights.h5\n",
      "19/19 - 1s - loss: 0.6239 - accuracy: 0.6758 - val_loss: 0.6263 - val_accuracy: 0.6752 - 987ms/epoch - 52ms/step\n",
      "Epoch 39/100\n",
      "\n",
      "Epoch 39: val_loss did not improve from 0.62630\n",
      "19/19 - 1s - loss: 0.6208 - accuracy: 0.6790 - val_loss: 0.6313 - val_accuracy: 0.6756 - 855ms/epoch - 45ms/step\n",
      "Epoch 40/100\n",
      "\n",
      "Epoch 40: val_loss improved from 0.62630 to 0.62618, saving model to .\\_best_weights.h5\n",
      "19/19 - 1s - loss: 0.6159 - accuracy: 0.6772 - val_loss: 0.6262 - val_accuracy: 0.6744 - 943ms/epoch - 50ms/step\n",
      "Epoch 41/100\n",
      "\n",
      "Epoch 41: val_loss did not improve from 0.62618\n",
      "19/19 - 1s - loss: 0.6145 - accuracy: 0.6794 - val_loss: 0.6373 - val_accuracy: 0.6692 - 826ms/epoch - 43ms/step\n",
      "Epoch 42/100\n",
      "\n",
      "Epoch 42: val_loss did not improve from 0.62618\n",
      "19/19 - 1s - loss: 0.6186 - accuracy: 0.6798 - val_loss: 0.6511 - val_accuracy: 0.6697 - 825ms/epoch - 43ms/step\n",
      "Epoch 43/100\n",
      "\n",
      "Epoch 43: val_loss did not improve from 0.62618\n",
      "19/19 - 1s - loss: 0.6183 - accuracy: 0.6775 - val_loss: 0.6267 - val_accuracy: 0.6761 - 844ms/epoch - 44ms/step\n",
      "Epoch 44/100\n",
      "\n",
      "Epoch 44: val_loss did not improve from 0.62618\n",
      "19/19 - 1s - loss: 0.6182 - accuracy: 0.6740 - val_loss: 0.6543 - val_accuracy: 0.6675 - 805ms/epoch - 42ms/step\n"
     ]
    },
    {
     "name": "stdout",
     "output_type": "stream",
     "text": [
      "Epoch 45/100\n",
      "\n",
      "Epoch 45: val_loss did not improve from 0.62618\n",
      "19/19 - 1s - loss: 0.6190 - accuracy: 0.6792 - val_loss: 0.6294 - val_accuracy: 0.6769 - 814ms/epoch - 43ms/step\n",
      "Epoch 46/100\n",
      "\n",
      "Epoch 46: val_loss did not improve from 0.62618\n",
      "19/19 - 1s - loss: 0.6165 - accuracy: 0.6800 - val_loss: 0.6298 - val_accuracy: 0.6761 - 810ms/epoch - 43ms/step\n",
      "Epoch 47/100\n",
      "\n",
      "Epoch 47: val_loss did not improve from 0.62618\n",
      "19/19 - 1s - loss: 0.6166 - accuracy: 0.6795 - val_loss: 0.6413 - val_accuracy: 0.6718 - 845ms/epoch - 44ms/step\n",
      "Epoch 48/100\n",
      "\n",
      "Epoch 48: val_loss did not improve from 0.62618\n",
      "19/19 - 1s - loss: 0.6154 - accuracy: 0.6792 - val_loss: 0.6291 - val_accuracy: 0.6752 - 789ms/epoch - 42ms/step\n",
      "Epoch 49/100\n",
      "\n",
      "Epoch 49: val_loss did not improve from 0.62618\n",
      "19/19 - 1s - loss: 0.6155 - accuracy: 0.6824 - val_loss: 1.0238 - val_accuracy: 0.6380 - 836ms/epoch - 44ms/step\n",
      "Epoch 50/100\n",
      "\n",
      "Epoch 50: val_loss did not improve from 0.62618\n",
      "19/19 - 1s - loss: 0.6235 - accuracy: 0.6675 - val_loss: 0.7104 - val_accuracy: 0.6585 - 812ms/epoch - 43ms/step\n",
      "Epoch 51/100\n",
      "\n",
      "Epoch 51: val_loss did not improve from 0.62618\n",
      "19/19 - 1s - loss: 0.6186 - accuracy: 0.6750 - val_loss: 0.6350 - val_accuracy: 0.6748 - 830ms/epoch - 44ms/step\n",
      "Epoch 52/100\n",
      "\n",
      "Epoch 52: val_loss did not improve from 0.62618\n",
      "19/19 - 1s - loss: 0.6184 - accuracy: 0.6775 - val_loss: 0.6341 - val_accuracy: 0.6756 - 807ms/epoch - 42ms/step\n",
      "Epoch 53/100\n",
      "\n",
      "Epoch 53: val_loss did not improve from 0.62618\n",
      "19/19 - 1s - loss: 0.6193 - accuracy: 0.6763 - val_loss: 0.6327 - val_accuracy: 0.6774 - 810ms/epoch - 43ms/step\n",
      "Epoch 54/100\n",
      "\n",
      "Epoch 54: val_loss did not improve from 0.62618\n",
      "19/19 - 1s - loss: 0.6157 - accuracy: 0.6798 - val_loss: 0.6452 - val_accuracy: 0.6521 - 830ms/epoch - 44ms/step\n",
      "Epoch 55/100\n",
      "\n",
      "Epoch 55: val_loss did not improve from 0.62618\n",
      "19/19 - 1s - loss: 0.6154 - accuracy: 0.6792 - val_loss: 0.6335 - val_accuracy: 0.6765 - 844ms/epoch - 44ms/step\n",
      "Epoch 56/100\n",
      "\n",
      "Epoch 56: val_loss did not improve from 0.62618\n",
      "19/19 - 1s - loss: 0.6169 - accuracy: 0.6805 - val_loss: 0.6366 - val_accuracy: 0.6731 - 834ms/epoch - 44ms/step\n",
      "Epoch 57/100\n",
      "\n",
      "Epoch 57: val_loss did not improve from 0.62618\n",
      "19/19 - 1s - loss: 0.6153 - accuracy: 0.6844 - val_loss: 0.6340 - val_accuracy: 0.6726 - 824ms/epoch - 43ms/step\n",
      "Epoch 58/100\n",
      "\n",
      "Epoch 58: val_loss did not improve from 0.62618\n",
      "19/19 - 1s - loss: 0.6117 - accuracy: 0.6836 - val_loss: 0.6314 - val_accuracy: 0.6684 - 830ms/epoch - 44ms/step\n",
      "Epoch 59/100\n",
      "\n",
      "Epoch 59: val_loss did not improve from 0.62618\n",
      "19/19 - 1s - loss: 0.6146 - accuracy: 0.6787 - val_loss: 0.6398 - val_accuracy: 0.6624 - 855ms/epoch - 45ms/step\n",
      "Epoch 60/100\n",
      "\n",
      "Epoch 60: val_loss did not improve from 0.62618\n",
      "19/19 - 1s - loss: 0.6129 - accuracy: 0.6808 - val_loss: 0.6339 - val_accuracy: 0.6752 - 850ms/epoch - 45ms/step\n",
      "Epoch 61/100\n",
      "\n",
      "Epoch 61: val_loss did not improve from 0.62618\n",
      "19/19 - 1s - loss: 0.6125 - accuracy: 0.6792 - val_loss: 0.6384 - val_accuracy: 0.6692 - 885ms/epoch - 47ms/step\n",
      "Epoch 62/100\n",
      "\n",
      "Epoch 62: val_loss did not improve from 0.62618\n",
      "19/19 - 1s - loss: 0.6222 - accuracy: 0.6714 - val_loss: 0.6410 - val_accuracy: 0.6641 - 840ms/epoch - 44ms/step\n",
      "Epoch 63/100\n",
      "\n",
      "Epoch 63: val_loss did not improve from 0.62618\n",
      "19/19 - 1s - loss: 0.6170 - accuracy: 0.6795 - val_loss: 0.6391 - val_accuracy: 0.6573 - 878ms/epoch - 46ms/step\n",
      "Epoch 64/100\n",
      "\n",
      "Epoch 64: val_loss did not improve from 0.62618\n",
      "19/19 - 1s - loss: 0.6132 - accuracy: 0.6789 - val_loss: 0.6296 - val_accuracy: 0.6705 - 845ms/epoch - 44ms/step\n",
      "Epoch 65/100\n",
      "\n",
      "Epoch 65: val_loss did not improve from 0.62618\n",
      "19/19 - 1s - loss: 0.6154 - accuracy: 0.6794 - val_loss: 0.6313 - val_accuracy: 0.6778 - 833ms/epoch - 44ms/step\n",
      "Epoch 66/100\n",
      "\n",
      "Epoch 66: val_loss did not improve from 0.62618\n",
      "19/19 - 1s - loss: 0.6129 - accuracy: 0.6786 - val_loss: 0.6307 - val_accuracy: 0.6709 - 800ms/epoch - 42ms/step\n",
      "Epoch 67/100\n",
      "\n",
      "Epoch 67: val_loss did not improve from 0.62618\n",
      "19/19 - 1s - loss: 0.6109 - accuracy: 0.6846 - val_loss: 0.6285 - val_accuracy: 0.6782 - 830ms/epoch - 44ms/step\n",
      "Epoch 68/100\n",
      "\n",
      "Epoch 68: val_loss did not improve from 0.62618\n",
      "19/19 - 1s - loss: 0.6138 - accuracy: 0.6812 - val_loss: 0.6288 - val_accuracy: 0.6821 - 835ms/epoch - 44ms/step\n",
      "Epoch 69/100\n",
      "\n",
      "Epoch 69: val_loss did not improve from 0.62618\n",
      "19/19 - 1s - loss: 0.6194 - accuracy: 0.6771 - val_loss: 0.7228 - val_accuracy: 0.6568 - 790ms/epoch - 42ms/step\n",
      "Epoch 70/100\n",
      "\n",
      "Epoch 70: val_loss did not improve from 0.62618\n",
      "19/19 - 1s - loss: 0.6143 - accuracy: 0.6787 - val_loss: 0.6346 - val_accuracy: 0.6735 - 783ms/epoch - 41ms/step\n",
      "Epoch 71/100\n",
      "\n",
      "Epoch 71: val_loss did not improve from 0.62618\n",
      "19/19 - 1s - loss: 0.6134 - accuracy: 0.6801 - val_loss: 0.6330 - val_accuracy: 0.6791 - 813ms/epoch - 43ms/step\n",
      "Epoch 72/100\n",
      "\n",
      "Epoch 72: val_loss did not improve from 0.62618\n",
      "19/19 - 1s - loss: 0.6133 - accuracy: 0.6819 - val_loss: 0.6304 - val_accuracy: 0.6774 - 810ms/epoch - 43ms/step\n",
      "Epoch 73/100\n",
      "\n",
      "Epoch 73: val_loss did not improve from 0.62618\n",
      "19/19 - 1s - loss: 0.6171 - accuracy: 0.6818 - val_loss: 0.6326 - val_accuracy: 0.6709 - 790ms/epoch - 42ms/step\n",
      "Epoch 74/100\n",
      "\n",
      "Epoch 74: val_loss did not improve from 0.62618\n",
      "19/19 - 1s - loss: 0.6093 - accuracy: 0.6864 - val_loss: 0.6337 - val_accuracy: 0.6735 - 801ms/epoch - 42ms/step\n",
      "Epoch 75/100\n",
      "\n",
      "Epoch 75: val_loss did not improve from 0.62618\n",
      "19/19 - 1s - loss: 0.6115 - accuracy: 0.6836 - val_loss: 0.6353 - val_accuracy: 0.6731 - 801ms/epoch - 42ms/step\n",
      "Epoch 76/100\n",
      "\n",
      "Epoch 76: val_loss did not improve from 0.62618\n",
      "19/19 - 1s - loss: 0.6134 - accuracy: 0.6829 - val_loss: 0.6266 - val_accuracy: 0.6821 - 846ms/epoch - 45ms/step\n",
      "Epoch 77/100\n",
      "\n",
      "Epoch 77: val_loss did not improve from 0.62618\n",
      "19/19 - 1s - loss: 0.6111 - accuracy: 0.6838 - val_loss: 0.6316 - val_accuracy: 0.6778 - 810ms/epoch - 43ms/step\n",
      "Epoch 78/100\n",
      "\n",
      "Epoch 78: val_loss improved from 0.62618 to 0.62467, saving model to .\\_best_weights.h5\n",
      "19/19 - 1s - loss: 0.6098 - accuracy: 0.6861 - val_loss: 0.6247 - val_accuracy: 0.6791 - 910ms/epoch - 48ms/step\n",
      "Epoch 79/100\n",
      "\n",
      "Epoch 79: val_loss did not improve from 0.62467\n",
      "19/19 - 1s - loss: 0.6146 - accuracy: 0.6795 - val_loss: 0.6362 - val_accuracy: 0.6718 - 807ms/epoch - 42ms/step\n",
      "Epoch 80/100\n",
      "\n",
      "Epoch 80: val_loss did not improve from 0.62467\n",
      "19/19 - 1s - loss: 0.6128 - accuracy: 0.6832 - val_loss: 0.6420 - val_accuracy: 0.6705 - 818ms/epoch - 43ms/step\n",
      "Epoch 81/100\n",
      "\n",
      "Epoch 81: val_loss did not improve from 0.62467\n",
      "19/19 - 1s - loss: 0.6115 - accuracy: 0.6789 - val_loss: 0.6277 - val_accuracy: 0.6838 - 790ms/epoch - 42ms/step\n",
      "Epoch 82/100\n",
      "\n",
      "Epoch 82: val_loss did not improve from 0.62467\n",
      "19/19 - 1s - loss: 0.6133 - accuracy: 0.6837 - val_loss: 0.7102 - val_accuracy: 0.6538 - 792ms/epoch - 42ms/step\n",
      "Epoch 83/100\n",
      "\n",
      "Epoch 83: val_loss did not improve from 0.62467\n",
      "19/19 - 1s - loss: 0.6147 - accuracy: 0.6795 - val_loss: 0.6316 - val_accuracy: 0.6756 - 783ms/epoch - 41ms/step\n",
      "Epoch 84/100\n",
      "\n",
      "Epoch 84: val_loss did not improve from 0.62467\n",
      "19/19 - 1s - loss: 0.6150 - accuracy: 0.6816 - val_loss: 0.6295 - val_accuracy: 0.6752 - 861ms/epoch - 45ms/step\n",
      "Epoch 85/100\n",
      "\n",
      "Epoch 85: val_loss did not improve from 0.62467\n",
      "19/19 - 1s - loss: 0.6136 - accuracy: 0.6840 - val_loss: 0.6302 - val_accuracy: 0.6692 - 835ms/epoch - 44ms/step\n",
      "Epoch 86/100\n",
      "\n",
      "Epoch 86: val_loss did not improve from 0.62467\n",
      "19/19 - 1s - loss: 0.6140 - accuracy: 0.6780 - val_loss: 0.6375 - val_accuracy: 0.6688 - 815ms/epoch - 43ms/step\n",
      "Epoch 87/100\n",
      "\n",
      "Epoch 87: val_loss did not improve from 0.62467\n",
      "19/19 - 1s - loss: 0.6132 - accuracy: 0.6791 - val_loss: 0.6304 - val_accuracy: 0.6714 - 850ms/epoch - 45ms/step\n",
      "Epoch 88/100\n",
      "\n",
      "Epoch 88: val_loss did not improve from 0.62467\n",
      "19/19 - 1s - loss: 0.6102 - accuracy: 0.6870 - val_loss: 0.6290 - val_accuracy: 0.6816 - 795ms/epoch - 42ms/step\n",
      "Epoch 89/100\n",
      "\n",
      "Epoch 89: val_loss did not improve from 0.62467\n",
      "19/19 - 1s - loss: 0.6110 - accuracy: 0.6843 - val_loss: 0.6281 - val_accuracy: 0.6808 - 805ms/epoch - 42ms/step\n",
      "Epoch 90/100\n",
      "\n",
      "Epoch 90: val_loss did not improve from 0.62467\n",
      "19/19 - 1s - loss: 0.6198 - accuracy: 0.6797 - val_loss: 0.6780 - val_accuracy: 0.6521 - 790ms/epoch - 42ms/step\n",
      "Epoch 91/100\n",
      "\n",
      "Epoch 91: val_loss did not improve from 0.62467\n",
      "19/19 - 1s - loss: 0.6268 - accuracy: 0.6741 - val_loss: 0.6498 - val_accuracy: 0.6436 - 825ms/epoch - 43ms/step\n"
     ]
    },
    {
     "name": "stdout",
     "output_type": "stream",
     "text": [
      "Epoch 92/100\n",
      "\n",
      "Epoch 92: val_loss did not improve from 0.62467\n",
      "19/19 - 1s - loss: 0.6208 - accuracy: 0.6719 - val_loss: 0.6375 - val_accuracy: 0.6530 - 820ms/epoch - 43ms/step\n",
      "Epoch 93/100\n",
      "\n",
      "Epoch 93: val_loss did not improve from 0.62467\n",
      "19/19 - 1s - loss: 0.6250 - accuracy: 0.6730 - val_loss: 0.6386 - val_accuracy: 0.6581 - 838ms/epoch - 44ms/step\n",
      "Epoch 94/100\n",
      "\n",
      "Epoch 94: val_loss did not improve from 0.62467\n",
      "19/19 - 1s - loss: 0.6207 - accuracy: 0.6728 - val_loss: 0.6402 - val_accuracy: 0.6530 - 816ms/epoch - 43ms/step\n",
      "Epoch 95/100\n",
      "\n",
      "Epoch 95: val_loss did not improve from 0.62467\n",
      "19/19 - 1s - loss: 0.6215 - accuracy: 0.6708 - val_loss: 0.6467 - val_accuracy: 0.6410 - 801ms/epoch - 42ms/step\n",
      "Epoch 96/100\n",
      "\n",
      "Epoch 96: val_loss did not improve from 0.62467\n",
      "19/19 - 1s - loss: 0.6234 - accuracy: 0.6744 - val_loss: 0.6373 - val_accuracy: 0.6530 - 792ms/epoch - 42ms/step\n",
      "Epoch 97/100\n",
      "\n",
      "Epoch 97: val_loss did not improve from 0.62467\n",
      "19/19 - 1s - loss: 0.6176 - accuracy: 0.6764 - val_loss: 0.6395 - val_accuracy: 0.6607 - 839ms/epoch - 44ms/step\n",
      "Epoch 98/100\n",
      "\n",
      "Epoch 98: val_loss did not improve from 0.62467\n",
      "19/19 - 1s - loss: 0.6149 - accuracy: 0.6769 - val_loss: 0.6362 - val_accuracy: 0.6731 - 869ms/epoch - 46ms/step\n",
      "Epoch 99/100\n",
      "\n",
      "Epoch 99: val_loss did not improve from 0.62467\n",
      "19/19 - 1s - loss: 0.6105 - accuracy: 0.6850 - val_loss: 0.6402 - val_accuracy: 0.6705 - 872ms/epoch - 46ms/step\n",
      "Epoch 100/100\n",
      "\n",
      "Epoch 100: val_loss did not improve from 0.62467\n",
      "19/19 - 1s - loss: 0.6112 - accuracy: 0.6841 - val_loss: 0.6391 - val_accuracy: 0.6688 - 882ms/epoch - 46ms/step\n"
     ]
    }
   ],
   "source": [
    "checkpointer = ModelCheckpoint(filepath='./'+'_best_weights.h5', verbose=2, monitor='val_loss', mode='auto', save_best_only=True) #save at each epoch if the validation decreased\n",
    "\n",
    "history =model.fit(x_train_new, Y_train_new, epochs=100, batch_size=512, verbose=2, validation_split=0.2, callbacks=[checkpointer])\n",
    "\n",
    "model.save('weights_cnn2.h5')"
   ]
  },
  {
   "cell_type": "code",
   "execution_count": 181,
   "id": "fcb004db",
   "metadata": {},
   "outputs": [
    {
     "name": "stdout",
     "output_type": "stream",
     "text": [
      "65/65 - 0s - loss: 0.6233 - accuracy: 0.6789 - 289ms/epoch - 4ms/step\n",
      "Test loss: 0.6233050227165222\n",
      "Test accuracy: 0.678934633731842\n"
     ]
    }
   ],
   "source": [
    "score = model.evaluate(x_test_new, Y_test_new, verbose=2)\n",
    "print('Test loss:', score[0])\n",
    "print('Test accuracy:', score[1])"
   ]
  },
  {
   "cell_type": "code",
   "execution_count": 182,
   "id": "566b155a",
   "metadata": {},
   "outputs": [
    {
     "data": {
      "image/png": "[encoded data removed]",
      "text/plain": [
       "<Figure size 432x288 with 1 Axes>"
      ]
     },
     "metadata": {
      "needs_background": "light"
     },
     "output_type": "display_data"
    }
   ],
   "source": [
    "import matplotlib.pyplot as plt # shorcut for a plot function\n",
    "plt.plot(history.history['accuracy']) # training accuracy\n",
    "plt.plot(history.history['val_accuracy']) # validation accuracy\n",
    "plt.title('model accuracy')\n",
    "plt.ylabel('accuracy')\n",
    "plt.xlabel('epoch')\n",
    "plt.legend(['train', 'test'], loc='upper left')\n",
    "plt.show()"
   ]
  },
  {
   "cell_type": "code",
   "execution_count": 177,
   "id": "4bf61bb5",
   "metadata": {},
   "outputs": [
    {
     "data": {
      "image/png": "[encoded data removed]",
      "text/plain": [
       "<Figure size 432x288 with 1 Axes>"
      ]
     },
     "metadata": {
      "needs_background": "light"
     },
     "output_type": "display_data"
    }
   ],
   "source": [
    "plt.plot(history.history['loss'])\n",
    "plt.plot(history.history['val_loss'])\n",
    "plt.title('model loss')\n",
    "plt.ylabel('loss')\n",
    "plt.xlabel('epoch')\n",
    "plt.legend(['train', 'test'], loc='upper left')\n",
    "plt.show()"
   ]
  },
  {
   "cell_type": "code",
   "execution_count": 178,
   "id": "26c69283",
   "metadata": {},
   "outputs": [
    {
     "name": "stdout",
     "output_type": "stream",
     "text": [
      "65/65 - 0s - 358ms/epoch - 6ms/step\n",
      "predicted images size : (2065, 3)\n",
      "[[4.0857640e-01 5.8972228e-01 1.7013188e-03]\n",
      " [4.3520463e-01 5.6339079e-01 1.4045548e-03]\n",
      " [5.7930797e-01 4.2000389e-01 6.8810495e-04]\n",
      " ...\n",
      " [6.4200115e-01 3.3945158e-01 1.8547276e-02]\n",
      " [3.9629623e-01 6.0362744e-01 7.6331198e-05]\n",
      " [8.8128555e-01 1.1862974e-01 8.4631400e-05]]\n",
      "(2065, 3)\n"
     ]
    }
   ],
   "source": [
    "predictions = model.predict(x_test_new, batch_size=32, verbose=2)\n",
    "print (\"predicted images size :\",predictions.shape)\n",
    "print(predictions)\n",
    "print(Y_test_new.shape)"
   ]
  },
  {
   "cell_type": "code",
   "execution_count": 179,
   "id": "b4ea0b28",
   "metadata": {},
   "outputs": [
    {
     "name": "stdout",
     "output_type": "stream",
     "text": [
      "\n",
      "Confusion matrix:  Custom threshold (for positive) of 0.5\n",
      "[[627 353   0]\n",
      " [284 772   0]\n",
      " [ 17   9   3]]\n"
     ]
    }
   ],
   "source": [
    "from sklearn.metrics import confusion_matrix,accuracy_score, precision_score, recall_score\n",
    "threshold_confusion = 0.5\n",
    "print (\"\\nConfusion matrix:  Custom threshold (for positive) of \" +str(threshold_confusion))\n",
    "y_pred = np.empty((predictions.shape[0]))\n",
    "y_test = np.empty((predictions.shape[0]))\n",
    "for i in range(predictions.shape[0]):\n",
    "    \n",
    "    y_pred[i]=np.argmax(predictions[i])\n",
    "    y_test[i]=np.argmax(Y_test_new[i])\n",
    "#print(y_pred)\n",
    "    \n",
    "       \n",
    "confusion = confusion_matrix(y_test,  y_pred)\n",
    "print (confusion)"
   ]
  },
  {
   "cell_type": "code",
   "execution_count": 180,
   "id": "e9e206c6",
   "metadata": {},
   "outputs": [
    {
     "name": "stdout",
     "output_type": "stream",
     "text": [
      "The accuracy score on this random test-set is  : 0.6789346246973366\n",
      "recall [0.63979592 0.73106061 0.10344828] the avreage recall is  0.49143493343000727\n",
      "precision [0.67564655 0.68077601 1.        ] the avreage precision is  0.7854741886111617\n",
      "F1_score 0.6045997305964422\n"
     ]
    }
   ],
   "source": [
    "\n",
    "print(\"The accuracy score on this random test-set is  :\", accuracy_score(y_test,  y_pred) )\n",
    "recall=recall_score(y_test,  y_pred, average=None)\n",
    "av_recall=sum(recall)/3\n",
    "print(\"recall\",recall, \"the avreage recall is \",av_recall)\n",
    "precision=precision_score(y_test,  y_pred,average=None)\n",
    "av_precision=sum(precision)/3\n",
    "\n",
    "print(\"precision\",precision,\"the avreage precision is \",av_precision)\n",
    "\n",
    "F1_score=(2*av_precision*av_recall)/(av_precision+av_recall)\n",
    "print(\"F1_score\",F1_score)"
   ]
  },
  {
   "cell_type": "code",
   "execution_count": null,
   "id": "01fb569f",
   "metadata": {},
   "outputs": [],
   "source": []
  }
 ],
 "metadata": {
  "kernelspec": {
   "display_name": "Python 3 (ipykernel)",
   "language": "python",
   "name": "python3"
  },
  "language_info": {
   "codemirror_mode": {
    "name": "ipython",
    "version": 3
   },
   "file_extension": ".py",
   "mimetype": "text/x-python",
   "name": "python",
   "nbconvert_exporter": "python",
   "pygments_lexer": "ipython3",
   "version": "3.9.7"
  }
 },
 "nbformat": 4,
 "nbformat_minor": 5
}
